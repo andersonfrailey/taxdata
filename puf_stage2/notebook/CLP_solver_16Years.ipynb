{
 "cells": [
  {
   "cell_type": "code",
   "execution_count": 1,
   "metadata": {
    "collapsed": true
   },
   "outputs": [],
   "source": [
    "import numpy as np\n",
    "import pandas as pd\n",
    "from pandas import DataFrame as df\n",
    "from cylp.cy import CyClpSimplex\n",
    "from cylp.py.modeling.CyLPModel import CyLPArray, CyLPModel\n",
    "from solve_lp_for_year import solve_lp_for_year"
   ]
  },
  {
   "cell_type": "code",
   "execution_count": 2,
   "metadata": {
    "collapsed": true
   },
   "outputs": [],
   "source": [
    "puf = pd.read_csv(\"../../puf_data/cps-matched-puf.csv\")\n",
    "Stage_I_factors = df.from_csv(\"../../stage1/Stage_I_factors_transpose.csv\", index_col = 0)\n",
    "Stage_II_targets = df.from_csv(\"../../stage1/Stage_II_targets.csv\", index_col= 0)"
   ]
  },
  {
   "cell_type": "code",
   "execution_count": 3,
   "metadata": {
    "collapsed": true
   },
   "outputs": [],
   "source": [
    "length = len(puf.s006)\n",
    "z = np.empty([length, 16])\n",
    "z[:,0] = puf.s006/100"
   ]
  },
  {
   "cell_type": "code",
   "execution_count": 8,
   "metadata": {},
   "outputs": [
    {
     "name": "stdout",
     "output_type": "stream",
     "text": [
      "Preparing coefficient matrix for year 2013 .....\n",
      "Preparing targets for year 2013 .....\n",
      "Targets for year 2013 are:\n",
      "[ -5.37972874e+07  -4.92064567e+07  -8.55129726e+06  -1.97919478e+07\n",
      "  -6.34152592e+07  -3.84800883e+10  -6.00287553e+10  -2.06373975e+11\n",
      "  -3.13268029e+10  -1.06831165e+11  -4.57008622e+11  -1.59079054e+11\n",
      "  -3.11548007e+10  -3.72422579e+11  -5.94151829e+10  -9.83393218e+09\n",
      "  -7.30934706e+10  -2.02878467e+11  -2.73972919e+11  -3.18151393e+11\n",
      "  -2.97609401e+11  -7.70357806e+11  -6.95284119e+11  -1.40805065e+12\n",
      "  -4.83614773e+11  -1.17197891e+10  -3.75390596e+10]\n",
      "Adding constraints for year 2013 .....\n",
      "Setting up the LP model for year 2013 .....\n",
      "Solving LP for year 2013 .....\n",
      "DONE solving LP for year 2013\n"
     ]
    }
   ],
   "source": [
    "z[:,1] = solve_lp_for_year(puf, Stage_I_factors, Stage_II_targets, year = '2013', tol = 0.47)"
   ]
  },
  {
   "cell_type": "code",
   "execution_count": 17,
   "metadata": {},
   "outputs": [
    {
     "name": "stdout",
     "output_type": "stream",
     "text": [
      "Preparing coefficient matrix for year 2014 .....\n",
      "Preparing targets for year 2014 .....\n",
      "Targets for year 2014 are:\n",
      "[ -5.30852771e+07  -5.14081814e+07  -8.40590886e+06  -2.10533780e+07\n",
      "  -6.38205932e+07  -3.99722904e+10  -6.27433504e+10  -2.04026630e+11\n",
      "  -3.11910962e+10  -1.08571137e+11  -4.74683606e+11  -1.57420726e+11\n",
      "  -3.09027767e+10  -3.85078681e+11  -5.89097162e+10  -1.14151820e+10\n",
      "  -7.59486850e+10  -2.16047178e+11  -2.86452150e+11  -3.22660776e+11\n",
      "  -3.03702225e+11  -8.01858517e+11  -7.06778864e+11  -1.37775246e+12\n",
      "  -4.36206814e+11   1.35750777e+10   7.91767292e+09]\n",
      "Adding constraints for year 2014 .....\n",
      "Setting up the LP model for year 2014 .....\n",
      "Solving LP for year 2014 .....\n",
      "DONE solving LP for year 2014\n"
     ]
    }
   ],
   "source": [
    "z[:,2] = solve_lp_for_year(puf, Stage_I_factors, Stage_II_targets, year = '2014', tol = 0.49)"
   ]
  },
  {
   "cell_type": "code",
   "execution_count": 23,
   "metadata": {},
   "outputs": [
    {
     "name": "stdout",
     "output_type": "stream",
     "text": [
      "Preparing coefficient matrix for year 2015 .....\n",
      "Preparing targets for year 2015 .....\n",
      "Targets for year 2015 are:\n",
      "[ -5.42157296e+07  -5.26164003e+07  -8.54660881e+06  -2.17774414e+07\n",
      "  -6.60304379e+07  -4.27417676e+10  -6.83272633e+10  -2.09814642e+11\n",
      "  -3.21780831e+10  -1.18683481e+11  -4.99890350e+11  -1.67769658e+11\n",
      "  -3.31178534e+10  -3.98337937e+11  -6.03166093e+10  -1.17179033e+10\n",
      "  -7.75333100e+10  -2.20604149e+11  -2.92529195e+11  -3.29326631e+11\n",
      "  -3.10106575e+11  -8.18457604e+11  -7.21709999e+11  -1.40708715e+12\n",
      "  -4.47869609e+11   1.19293983e+10   5.47153826e+09]\n",
      "Adding constraints for year 2015 .....\n",
      "Setting up the LP model for year 2015 .....\n",
      "Solving LP for year 2015 .....\n",
      "DONE solving LP for year 2015\n"
     ]
    }
   ],
   "source": [
    "z[:,3] = solve_lp_for_year(puf, Stage_I_factors, Stage_II_targets, year = '2015', tol = 0.49)"
   ]
  },
  {
   "cell_type": "code",
   "execution_count": 27,
   "metadata": {},
   "outputs": [
    {
     "name": "stdout",
     "output_type": "stream",
     "text": [
      "Preparing coefficient matrix for year 2016 .....\n",
      "Preparing targets for year 2016 .....\n",
      "Targets for year 2016 are:\n",
      "[ -5.54558971e+07  -5.39128722e+07  -8.71101075e+06  -2.24996654e+07\n",
      "  -6.86451840e+07  -4.57240433e+10  -7.43554720e+10  -2.17117193e+11\n",
      "  -3.33757076e+10  -1.30244055e+11  -5.26076592e+11  -1.80270042e+11\n",
      "  -3.57711359e+10  -4.11550147e+11  -6.20898365e+10  -1.21027263e+10\n",
      "  -7.96099333e+10  -2.26525082e+11  -3.00528397e+11  -3.38147074e+11\n",
      "  -3.18604595e+11  -8.39971504e+11  -7.41041536e+11  -1.44538877e+12\n",
      "  -4.63404405e+11   9.51909581e+09   2.01038583e+09]\n",
      "Adding constraints for year 2016 .....\n",
      "Setting up the LP model for year 2016 .....\n",
      "Solving LP for year 2016 .....\n",
      "DONE solving LP for year 2016\n"
     ]
    }
   ],
   "source": [
    "z[:,4] = solve_lp_for_year(puf, Stage_I_factors, Stage_II_targets, year = '2016', tol = 0.49)"
   ]
  },
  {
   "cell_type": "code",
   "execution_count": 31,
   "metadata": {},
   "outputs": [
    {
     "name": "stdout",
     "output_type": "stream",
     "text": [
      "Preparing coefficient matrix for year 2017 .....\n",
      "Preparing targets for year 2017 .....\n",
      "Targets for year 2017 are:\n",
      "[ -5.67665288e+07  -5.52750293e+07  -8.88694987e+06  -2.32452556e+07\n",
      "  -7.14804723e+07  -4.89079804e+10  -8.08370254e+10  -2.25369072e+11\n",
      "  -3.47110973e+10  -1.42942088e+11  -5.53720617e+11  -1.94250822e+11\n",
      "  -3.87384350e+10  -4.25182282e+11  -6.40687916e+10  -1.25356538e+10\n",
      "  -8.19599526e+10  -2.33208441e+11  -3.09596228e+11  -3.48157721e+11\n",
      "  -3.28261329e+11  -8.64227791e+11  -7.62837925e+11  -1.48869784e+12\n",
      "  -4.81144406e+11   6.64757035e+09  -2.06944361e+09]\n",
      "Adding constraints for year 2017 .....\n",
      "Setting up the LP model for year 2017 .....\n",
      "Solving LP for year 2017 .....\n",
      "DONE solving LP for year 2017\n"
     ]
    }
   ],
   "source": [
    "z[:,5] = solve_lp_for_year(puf, Stage_I_factors, Stage_II_targets, year = '2017', tol = 0.50)"
   ]
  },
  {
   "cell_type": "code",
   "execution_count": 34,
   "metadata": {},
   "outputs": [
    {
     "name": "stdout",
     "output_type": "stream",
     "text": [
      "Preparing coefficient matrix for year 2018 .....\n",
      "Preparing targets for year 2018 .....\n",
      "Targets for year 2018 are:\n",
      "[ -5.80732820e+07  -5.66478151e+07  -9.05776850e+06  -2.40222613e+07\n",
      "  -7.41064429e+07  -5.21229151e+10  -8.73509577e+10  -2.33067714e+11\n",
      "  -3.59771182e+10  -1.55387404e+11  -5.82021657e+11  -2.07586892e+11\n",
      "  -4.15585407e+10  -4.39420547e+11  -6.59140587e+10  -1.29386518e+10\n",
      "  -8.41180759e+10  -2.39367283e+11  -3.17910043e+11  -3.57315635e+11\n",
      "  -3.37087118e+11  -8.86599842e+11  -7.82952297e+11  -1.52853316e+12\n",
      "  -4.97355714e+11   4.09728456e+09  -5.73457723e+09]\n",
      "Adding constraints for year 2018 .....\n",
      "Setting up the LP model for year 2018 .....\n",
      "Solving LP for year 2018 .....\n",
      "DONE solving LP for year 2018\n"
     ]
    }
   ],
   "source": [
    "z[:,6] = solve_lp_for_year(puf, Stage_I_factors, Stage_II_targets, year = '2018', tol = 0.50)"
   ]
  },
  {
   "cell_type": "code",
   "execution_count": 38,
   "metadata": {},
   "outputs": [
    {
     "name": "stdout",
     "output_type": "stream",
     "text": [
      "Preparing coefficient matrix for year 2019 .....\n",
      "Preparing targets for year 2019 .....\n",
      "Targets for year 2019 are:\n",
      "[ -5.93466087e+07  -5.80091781e+07  -9.21574787e+06  -2.48383722e+07\n",
      "  -7.64125654e+07  -5.53315151e+10  -9.37873155e+10  -2.39848477e+11\n",
      "  -3.71268847e+10  -1.67258937e+11  -6.10884850e+11  -2.19774364e+11\n",
      "  -4.41738232e+10  -4.54307227e+11  -6.75572125e+10  -1.32925914e+10\n",
      "  -8.59681777e+10  -2.44680551e+11  -3.25015664e+11  -3.65110819e+11\n",
      "  -3.44586124e+11  -9.05931446e+11  -8.00350063e+11  -1.56278109e+12\n",
      "  -5.11122439e+11   2.05127404e+09  -8.74341794e+09]\n",
      "Adding constraints for year 2019 .....\n",
      "Setting up the LP model for year 2019 .....\n",
      "Solving LP for year 2019 .....\n",
      "DONE solving LP for year 2019\n"
     ]
    }
   ],
   "source": [
    "z[:,7] = solve_lp_for_year(puf, Stage_I_factors, Stage_II_targets, year = '2019', tol = 0.51)"
   ]
  },
  {
   "cell_type": "code",
   "execution_count": 42,
   "metadata": {},
   "outputs": [
    {
     "name": "stdout",
     "output_type": "stream",
     "text": [
      "Preparing coefficient matrix for year 2020 .....\n",
      "Preparing targets for year 2020 .....\n",
      "Targets for year 2020 are:\n",
      "[ -6.06195366e+07  -5.93879888e+07  -9.36829766e+06  -2.56984877e+07\n",
      "  -7.85596997e+07  -5.85807494e+10  -1.00346941e+11  -2.46017178e+11\n",
      "  -3.82085352e+10  -1.78895223e+11  -6.40768649e+11  -2.31336495e+11\n",
      "  -4.66475625e+10  -4.70017878e+11  -6.90444780e+10  -1.36131780e+10\n",
      "  -8.75984273e+10  -2.49393807e+11  -3.31258617e+11  -3.71927725e+11\n",
      "  -3.51133541e+11  -9.23103690e+11  -8.15824431e+11  -1.59305791e+12\n",
      "  -5.23171412e+11   3.48281750e+08  -1.13114493e+10]\n",
      "Adding constraints for year 2020 .....\n",
      "Setting up the LP model for year 2020 .....\n",
      "Solving LP for year 2020 .....\n",
      "DONE solving LP for year 2020\n"
     ]
    }
   ],
   "source": [
    "z[:,8] = solve_lp_for_year(puf, Stage_I_factors, Stage_II_targets, year = '2020', tol = 0.51)"
   ]
  },
  {
   "cell_type": "code",
   "execution_count": 45,
   "metadata": {},
   "outputs": [
    {
     "name": "stdout",
     "output_type": "stream",
     "text": [
      "Preparing coefficient matrix for year 2021 .....\n",
      "Preparing targets for year 2021 .....\n",
      "Targets for year 2021 are:\n",
      "[ -6.18736425e+07  -6.07452394e+07  -9.51837810e+06  -2.65419983e+07\n",
      "  -8.06335943e+07  -6.17908476e+10  -1.06792724e+11  -2.52175028e+11\n",
      "  -3.92887963e+10  -1.90413342e+11  -6.70124127e+11  -2.42806333e+11\n",
      "  -4.91115670e+10  -4.85462213e+11  -7.05443515e+10  -1.39343214e+10\n",
      "  -8.92392104e+10  -2.54132814e+11  -3.37544117e+11  -3.78796401e+11\n",
      "  -3.57731656e+11  -9.40367656e+11  -8.31377366e+11  -1.62351379e+12\n",
      "  -5.35299426e+11  -1.37209892e+09  -1.38972643e+10]\n",
      "Adding constraints for year 2021 .....\n",
      "Setting up the LP model for year 2021 .....\n",
      "Solving LP for year 2021 .....\n",
      "DONE solving LP for year 2021\n"
     ]
    }
   ],
   "source": [
    "z[:,9] = solve_lp_for_year(puf, Stage_I_factors, Stage_II_targets, year = '2021', tol = 0.51)"
   ]
  },
  {
   "cell_type": "code",
   "execution_count": 48,
   "metadata": {},
   "outputs": [
    {
     "name": "stdout",
     "output_type": "stream",
     "text": [
      "Preparing coefficient matrix for year 2022 .....\n",
      "Preparing targets for year 2022 .....\n",
      "Targets for year 2022 are:\n",
      "[ -6.31482585e+07  -6.21327537e+07  -9.66846228e+06  -2.74160588e+07\n",
      "  -8.25198854e+07  -6.50804277e+10  -1.13418332e+11  -2.58216538e+11\n",
      "  -4.03544893e+10  -2.02051909e+11  -7.00507468e+11  -2.54214025e+11\n",
      "  -5.15734453e+10  -5.01482376e+11  -7.20039653e+10  -1.42472550e+10\n",
      "  -9.08155969e+10  -2.58700633e+11  -3.43575021e+11  -3.85371066e+11\n",
      "  -3.64043191e+11  -9.57017161e+11  -8.46387621e+11  -1.65282334e+12\n",
      "  -5.46927938e+11  -2.98953210e+09  -1.63576958e+10]\n",
      "Adding constraints for year 2022 .....\n",
      "Setting up the LP model for year 2022 .....\n",
      "Solving LP for year 2022 .....\n",
      "DONE solving LP for year 2022\n"
     ]
    }
   ],
   "source": [
    "z[:,10] = solve_lp_for_year(puf, Stage_I_factors, Stage_II_targets, year = '2022', tol = 0.51)"
   ]
  },
  {
   "cell_type": "code",
   "execution_count": 51,
   "metadata": {},
   "outputs": [
    {
     "name": "stdout",
     "output_type": "stream",
     "text": [
      "Preparing coefficient matrix for year 2023 .....\n",
      "Preparing targets for year 2023 .....\n",
      "Targets for year 2023 are:\n",
      "[ -6.44254039e+07  -6.35190068e+07  -9.82061029e+06  -2.82860749e+07\n",
      "  -8.44527649e+07  -6.83884987e+10  -1.20068076e+11  -2.64369718e+11\n",
      "  -4.14400447e+10  -2.13867602e+11  -7.30801885e+11  -2.65875556e+11\n",
      "  -5.40767214e+10  -5.17360930e+11  -7.34902654e+10  -1.45678471e+10\n",
      "  -9.24373177e+10  -2.63392195e+11  -3.49785769e+11  -3.92147658e+11\n",
      "  -3.70553394e+11  -9.74106711e+11  -8.61793935e+11  -1.68295841e+12\n",
      "  -5.58951631e+11  -4.70944582e+09  -1.89507905e+10]\n",
      "Adding constraints for year 2023 .....\n",
      "Setting up the LP model for year 2023 .....\n",
      "Solving LP for year 2023 .....\n",
      "DONE solving LP for year 2023\n"
     ]
    }
   ],
   "source": [
    "z[:,11] = solve_lp_for_year(puf, Stage_I_factors, Stage_II_targets, year = '2023', tol = 0.52)"
   ]
  },
  {
   "cell_type": "code",
   "execution_count": 54,
   "metadata": {},
   "outputs": [
    {
     "name": "stdout",
     "output_type": "stream",
     "text": [
      "Preparing coefficient matrix for year 2024 .....\n",
      "Preparing targets for year 2024 .....\n",
      "Targets for year 2024 are:\n",
      "[ -6.56811251e+07  -6.48791309e+07  -9.97089942e+06  -2.91327913e+07\n",
      "  -8.64308142e+07  -7.16133562e+10  -1.26552561e+11  -2.70529919e+11\n",
      "  -4.25172716e+10  -2.25466616e+11  -7.60316685e+11  -2.77402891e+11\n",
      "  -5.65552537e+10  -5.32856379e+11  -7.49733437e+10  -1.48876460e+10\n",
      "  -9.40649029e+10  -2.68095306e+11  -3.56020992e+11  -3.98957591e+11\n",
      "  -3.77096140e+11  -9.91237333e+11  -8.77231467e+11  -1.71318160e+12\n",
      "  -5.71009160e+11  -6.43439385e+09  -2.15434085e+10]\n",
      "Adding constraints for year 2024 .....\n",
      "Setting up the LP model for year 2024 .....\n",
      "Solving LP for year 2024 .....\n",
      "DONE solving LP for year 2024\n"
     ]
    }
   ],
   "source": [
    "z[:,12] = solve_lp_for_year(puf, Stage_I_factors, Stage_II_targets, year = '2024', tol = 0.53)"
   ]
  },
  {
   "cell_type": "code",
   "execution_count": 58,
   "metadata": {},
   "outputs": [
    {
     "name": "stdout",
     "output_type": "stream",
     "text": [
      "Preparing coefficient matrix for year 2025 .....\n",
      "Preparing targets for year 2025 .....\n",
      "Targets for year 2025 are:\n",
      "[ -6.69706061e+07  -6.62802503e+07  -1.01234357e+07  -3.00144739e+07\n",
      "  -8.84273400e+07  -7.49753420e+10  -1.33326674e+11  -2.76855836e+11\n",
      "  -4.36260940e+10  -2.37486818e+11  -7.91102619e+11  -2.89305550e+11\n",
      "  -5.91208909e+10  -5.48991974e+11  -7.64817965e+10  -1.52163835e+10\n",
      "  -9.57279117e+10  -2.72903810e+11  -3.62393039e+11  -4.05911058e+11\n",
      "  -3.83779076e+11  -1.00874635e+12  -8.93017981e+11  -1.74408181e+12\n",
      "  -5.83381315e+11  -8.23383460e+09  -2.42456754e+10]\n",
      "Adding constraints for year 2025 .....\n",
      "Setting up the LP model for year 2025 .....\n",
      "Solving LP for year 2025 .....\n",
      "DONE solving LP for year 2025\n"
     ]
    }
   ],
   "source": [
    "z[:,13] = solve_lp_for_year(puf, Stage_I_factors, Stage_II_targets, year = '2025', tol = 0.54)"
   ]
  },
  {
   "cell_type": "code",
   "execution_count": 62,
   "metadata": {},
   "outputs": [
    {
     "name": "stdout",
     "output_type": "stream",
     "text": [
      "Preparing coefficient matrix for year 2026 .....\n",
      "Preparing targets for year 2026 .....\n",
      "Targets for year 2026 are:\n",
      "[ -6.82208202e+07  -6.76294417e+07  -1.02748268e+07  -3.08441920e+07\n",
      "  -9.04573132e+07  -7.81932859e+10  -1.39803773e+11  -2.83170768e+11\n",
      "  -4.47214775e+10  -2.49171332e+11  -8.20318591e+11  -3.01023682e+11\n",
      "  -6.16276293e+10  -5.64184186e+11  -7.80121427e+10  -1.55450230e+10\n",
      "  -9.74118497e+10  -2.77759502e+11  -3.68851686e+11  -4.12973946e+11\n",
      "  -3.90570087e+11  -1.02642082e+12  -9.08942428e+11  -1.77532442e+12\n",
      "  -5.95915553e+11  -1.00763498e+10  -2.69883930e+10]\n",
      "Adding constraints for year 2026 .....\n",
      "Setting up the LP model for year 2026 .....\n",
      "Solving LP for year 2026 .....\n",
      "DONE solving LP for year 2026\n"
     ]
    }
   ],
   "source": [
    "z[:,14] = solve_lp_for_year(puf, Stage_I_factors, Stage_II_targets, year = '2026', tol = 0.55)"
   ]
  },
  {
   "cell_type": "code",
   "execution_count": 66,
   "metadata": {},
   "outputs": [
    {
     "name": "stdout",
     "output_type": "stream",
     "text": [
      "Preparing coefficient matrix for year 2027 .....\n",
      "Preparing targets for year 2027 .....\n",
      "Targets for year 2027 are:\n",
      "[ -6.94176840e+07  -6.89138364e+07  -1.04218881e+07  -3.16235187e+07\n",
      "  -9.25311470e+07  -8.12235537e+10  -1.45911643e+11  -2.89406157e+11\n",
      "  -4.57889841e+10  -2.60296381e+11  -8.47770623e+11  -3.12347206e+11\n",
      "  -6.40564485e+10  -5.78405051e+11  -7.95196233e+10  -1.58700784e+10\n",
      "  -9.90982976e+10  -2.82610488e+11  -3.75324993e+11  -4.20066909e+11\n",
      "  -3.97391804e+11  -1.04407436e+12  -9.24836411e+11  -1.80656957e+12\n",
      "  -6.08459439e+11  -1.19284799e+10  -2.97259372e+10]\n",
      "Adding constraints for year 2027 .....\n",
      "Setting up the LP model for year 2027 .....\n",
      "Solving LP for year 2027 .....\n",
      "DONE solving LP for year 2027\n"
     ]
    }
   ],
   "source": [
    "z[:,15] = solve_lp_for_year(puf, Stage_I_factors, Stage_II_targets, year = '2027', tol = 0.55)"
   ]
  },
  {
   "cell_type": "code",
   "execution_count": 23,
   "metadata": {
    "collapsed": true
   },
   "outputs": [],
   "source": [
    "z = df(z, columns=['WT2012','WT2013','WT2014',\n",
    "                   'WT2015','WT2016','WT2017','WT2018','WT2019','WT2020','WT2021',\n",
    "                   'WT2022','WT2023','WT2024', 'WT2025', 'WT2026', 'WT2027'])\n",
    "z = z.round(0).astype('int64')\n",
    "z.to_csv('puf_weights.csv', index = False)"
   ]
  },
  {
   "cell_type": "code",
   "execution_count": null,
   "metadata": {
    "collapsed": true
   },
   "outputs": [],
   "source": []
  }
 ],
 "metadata": {
  "anaconda-cloud": {},
  "kernelspec": {
   "display_name": "Python [conda env:taxdata-dev]",
   "language": "python",
   "name": "conda-env-taxdata-dev-py"
  },
  "language_info": {
   "codemirror_mode": {
    "name": "ipython",
    "version": 2
   },
   "file_extension": ".py",
   "mimetype": "text/x-python",
   "name": "python",
   "nbconvert_exporter": "python",
   "pygments_lexer": "ipython2",
   "version": "2.7.13"
  }
 },
 "nbformat": 4,
 "nbformat_minor": 2
}
